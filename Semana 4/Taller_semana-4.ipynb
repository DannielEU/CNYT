{
 "cells": [
  {
   "cell_type": "markdown",
   "metadata": {},
   "source": [
    "## Exercise 1: Complex Hermitian Matrices\n",
    "\n",
    "Consider the matrix:\n",
    "\n",
    "$$ H = \\begin{bmatrix} 3 & 2+i \\\\ 2-i & 1 \\end{bmatrix} $$\n",
    "\n",
    "- Verify if $ H $ is a Hermitian matrix.\n",
    "- If it is, find its eigenvalues."
   ]
  },
  {
   "cell_type": "code",
   "execution_count": null,
   "metadata": {},
   "outputs": [
    {
     "data": {
      "text/plain": [
       "(True,\n",
       " array([[3.+0.j, 2.+1.j],\n",
       "        [2.-1.j, 1.+0.j]]))"
      ]
     },
     "execution_count": 1,
     "metadata": {},
     "output_type": "execute_result"
    }
   ],
   "source": [
    "\n",
    "import numpy as np\n",
    "\n",
    "# Define a complex Hermitian matrix\n",
    "hermitian_matrix = np.array([[3,2+1j], [2-1j, 1]])\n",
    "\n",
    "# Check if the matrix is Hermitian\n",
    "is_hermitian = np.allclose(hermitian_matrix, hermitian_matrix.conj().T)\n",
    "\n",
    "is_hermitian, hermitian_matrix\n"
   ]
  },
  {
   "cell_type": "code",
   "execution_count": null,
   "metadata": {},
   "outputs": [
    {
     "name": "stdout",
     "output_type": "stream",
     "text": [
      "Eigenvalues: [ 4.44948974-6.70989255e-17j -0.44948974+1.15877743e-17j]\n",
      "Eigenvectors:\n",
      " [[ 0.83912106+0.j         -0.48651894-0.24325947j]\n",
      " [ 0.48651894-0.24325947j  0.83912106+0.j        ]]\n"
     ]
    }
   ],
   "source": [
    "import numpy as np\n",
    "\n",
    "# Define a square matrix\n",
    "A = np.array([[3,2+1j], [2-1j, 1]])\n",
    "\n",
    "# Compute eigenvalues and eigenvectors\n",
    "eigenvalues, eigenvectors = np.linalg.eig(A)\n",
    "\n",
    "print(\"Eigenvalues:\", eigenvalues)\n",
    "print(\"Eigenvectors:\\n\", eigenvectors)"
   ]
  },
  {
   "cell_type": "markdown",
   "metadata": {},
   "source": [
    "## Exercise 2: Complex Unitary Matrices\n",
    "\n",
    "Consider the matrix:\n",
    "\n",
    "$$ U = \\frac{1}{\\sqrt{2}}\\begin{bmatrix} 1 & i \\\\ i & 1 \\end{bmatrix} $$\n",
    "\n",
    "- Verify if $ U $ is a Unitary matrix.\n",
    "- Compute $ UU^\\dagger $ to confirm its Unitarity, where $ U^\\dagger $ denotes the conjugate transpose of $ U $.\n"
   ]
  },
  {
   "cell_type": "code",
   "execution_count": null,
   "metadata": {},
   "outputs": [],
   "source": [
    "# Define a complex Unitary matrix\n",
    "u  = np.array([[1/np.sqrt(2), 1/np.sqrt(2) *1j], [1/np.sqrt(2) *1j, 1/np.sqrt(2)]])\n",
    "\n",
    "#\n",
    "is_unitary = np.allclose(np.dot(u, u.conj().T), np.eye(2))\n",
    "\n",
    "if is_unitary :\n",
    "    print(np.dot(u,np.conjugate(u).T))"
   ]
  },
  {
   "cell_type": "markdown",
   "metadata": {},
   "source": [
    "## Exercise 3: Tensor Product for Complex Vectors\n",
    "\n",
    "Given the complex vectors:\n",
    "\n",
    "$$ \\mathbf{v} = \\begin{bmatrix} 1+i \\\\ 2-i \\end{bmatrix}, \\quad \\mathbf{w} = \\begin{bmatrix} 1-2i \\\\ 3 \\end{bmatrix} $$\n",
    "\n",
    "Calculate the tensor product $ \\mathbf{v} \\otimes \\mathbf{w} $.\n"
   ]
  },
  {
   "cell_type": "code",
   "execution_count": null,
   "metadata": {},
   "outputs": [],
   "source": [
    "import numpy as np\n",
    "\n",
    "\n",
    "v1 = np.array([1+1j, 2-1j])\n",
    "v2 = np.array([1-2j, 3])\n",
    "\n",
    "\n",
    "tensor_product_v = np.kron(v1, v2)\n",
    "\n",
    "tensor_product_v"
   ]
  },
  {
   "cell_type": "markdown",
   "metadata": {},
   "source": [
    "### **Explicación del Producto Tensorial de Vectores**  \n",
    "\n",
    "El **producto tensorial** (o **producto de Kronecker**) es una operación que combina dos vectores para formar un nuevo vector en un espacio de mayor dimensión. Se usa en **computación cuántica**, **álgebra lineal** y otras aplicaciones matemáticas.  \n",
    "\n",
    "#### **¿Cómo funciona matemáticamente?**  \n",
    "Si tenemos dos vectores:  \n",
    "\n",
    "\\[\n",
    "v_1 = \\begin{bmatrix} a \\\\ b \\end{bmatrix}, \\quad v_2 = \\begin{bmatrix} c \\\\ d \\end{bmatrix}\n",
    "\\]\n",
    "\n",
    "El **producto tensorial** \\( v_1 \\otimes v_2 \\) se calcula multiplicando cada elemento de \\( v_1 \\) por todo el vector \\( v_2 \\), formando un nuevo vector de dimensión mayor:\n",
    "\n",
    "\\[\n",
    "v_1 \\otimes v_2 =\n",
    "\\begin{bmatrix} a \\cdot c \\\\ a \\cdot d \\\\ b \\cdot c \\\\ b \\cdot d \\end{bmatrix}\n",
    "\\]\n",
    "\n",
    "#### **Propiedades Importantes**  \n",
    "1. **Aumenta la dimensión**: Si \\( v_1 \\) tiene \\( n \\) elementos y \\( v_2 \\) tiene \\( m \\), el resultado tiene \\( n \\times m \\) elementos.  \n",
    "2. **No es conmutativo**: \\( v_1 \\otimes v_2 \\neq v_2 \\otimes v_1 \\).  \n",
    "3. **Preserva estructura**: Es clave en **mecánica cuántica** para describir sistemas de múltiples partículas o qubits.  \n",
    "\n",
    "Este producto es fundamental en la representación de sistemas combinados y se usa mucho en **computación cuántica** para representar estados entrelazados. 🚀"
   ]
  },
  {
   "cell_type": "markdown",
   "metadata": {},
   "source": [
    "## Exercise 4: Tensor Product for Complex Matrices\n",
    "\n",
    "Given the matrices:\n",
    "\n",
    "$$ M_1 = \\begin{bmatrix} 0 & 1 \\\\ 1 & 0 \\end{bmatrix}, \\quad M_2 = \\begin{bmatrix} i & 0 \\\\ 0 & -i \\end{bmatrix} $$\n",
    "\n",
    "Calculate the tensor product $ M_1 \\otimes M_2 $."
   ]
  },
  {
   "cell_type": "code",
   "execution_count": null,
   "metadata": {},
   "outputs": [
    {
     "data": {
      "text/plain": [
       "array([[0.+0.j, 0.+0.j, 0.+1.j, 0.+0.j],\n",
       "       [0.+0.j, 0.-0.j, 0.+0.j, 0.-1.j],\n",
       "       [0.+1.j, 0.+0.j, 0.+0.j, 0.+0.j],\n",
       "       [0.+0.j, 0.-1.j, 0.+0.j, 0.-0.j]])"
      ]
     },
     "execution_count": 3,
     "metadata": {},
     "output_type": "execute_result"
    }
   ],
   "source": [
    "\n",
    "# Define two complex matrices for the tensor product\n",
    "M1 = np.array([[0,1], [1, 0]])\n",
    "M2 = np.array([[1j, 0], [0, -1j]])\n",
    "\n",
    "# Calculate the tensor product\n",
    "tensor_product_m = np.kron(M1, M2)\n",
    "print(\"La matriz es: \\n\")\n",
    "tensor_product_m"
   ]
  },
  {
   "cell_type": "markdown",
   "metadata": {},
   "source": [
    "## Exercise 5: Modelling quantum computations with vectors and matrices\n",
    "\n",
    "Using matrices and vectors, implement a model of the Mach/Zehnder interferometer.\n",
    "\n",
    "![Mach-Zehnder interferometer](images/Mach-Zehnder-Interferometer.png)\n"
   ]
  },
  {
   "cell_type": "markdown",
   "metadata": {},
   "source": [
    "$$ q0 = \\begin{bmatrix}  1 \\\\ 0 \\end{bmatrix} $$ \n",
    "##Estado inicial\n",
    "$$ H = \\frac{1}{\\sqrt{2}}\\begin{bmatrix} 1 & 1 \\\\ 1 & -1 \\end{bmatrix} $$\n",
    "### Multiplicamos las matrices tanto de estado inicial como de divisores de haz.\n",
    "$$ q1 = \\frac{1}{\\sqrt{2}}\\begin{bmatrix}  1 \\\\ 1 \\end{bmatrix} $$\n",
    "### Multiplicamos las matrices tanto de estado uno como de X.\n",
    "$$ X = \\begin{bmatrix}  0 & 1 \\\\ 1 & 0\\end{bmatrix} $$\n",
    "$$ q2 = \\frac{1}{\\sqrt{2}}\\begin{bmatrix}  1 \\\\ 1 \\end{bmatrix} $$\n",
    "### Multiplicamos las matrices tanto de estado dos como de divisores de haz.\n",
    "$$ H = \\frac{1}{\\sqrt{2}}\\begin{bmatrix} 1 & 1 \\\\ 1 & -1 \\end{bmatrix} $$\n",
    "como resultado el q3\n",
    "$$ q3 = \\begin{bmatrix}  1 \\\\ 0 \\end{bmatrix} $$\n",
    "como resultado:\n",
    "∣ψ 3 ⟩=∣0⟩\n",
    "\n",
    "\n",
    "\n",
    "\n",
    "\n"
   ]
  },
  {
   "cell_type": "markdown",
   "metadata": {},
   "source": [
    "## Exercise 6: Composing quantum systems \n",
    "\n",
    "Using matrices and vectors, implement a model of the following circuit.\n",
    "\n",
    "![Mach-Zehnder interferometer](images/Deutsch-Algorithm.png)\n",
    "\n",
    "Use the following MAtrix for $U_f$:\n",
    "\n",
    "![Mach-Zehnder interferometer](images/ExampleUf.png)"
   ]
  },
  {
   "cell_type": "markdown",
   "metadata": {},
   "source": [
    "\n",
    "1. **Definición de Matrices**  \n",
    "   - Se define la matriz **Hadamard (H)** de tamaño \\(2 \\times 2\\), que permite crear superposiciones.  \n",
    "   - Se define la matriz \\( U_f \\) de tamaño \\( 4 \\times 4 \\), que representa la función cuántica \\( f(x) \\) dada en la imagen.  \n",
    "\n",
    "2. **Estado Inicial**  \n",
    "   - Se inicia en \\( |01\\rangle \\), que es el vector \\([0, 1, 0, 0]\\), representando el primer qubit en \\( |0\\rangle \\) y el segundo en \\( |1\\rangle \\).  \n",
    "\n",
    "3. **Aplicación de Hadamard a Ambos Qubits**  \n",
    "   - Se calcula el **producto tensorial** \\( H \\otimes H \\), que genera una superposición de estados para los dos qubits.  \n",
    "\n",
    "4. **Aplicación de la Puerta \\( U_f \\)**  \n",
    "   - Se multiplica el estado obtenido por \\( U_f \\), que cambia los coeficientes según la función \\( f(x) \\).  \n",
    "\n",
    "5. **Aplicación de Hadamard al Primer Qubit**  \n",
    "   - Se vuelve a aplicar Hadamard, pero solo al primer qubit, lo que permite la **interferencia cuántica** y revela si la función es constante o balanceada.  \n",
    "\n",
    "6. **Medición del Primer Qubit**  \n",
    "   - Se calculan las probabilidades de obtener \\( |0\\rangle \\) o \\( |1\\rangle \\) en el primer qubit tras la interferencia.  \n",
    "\n",
    "7. **Determinación de la Naturaleza de \\( f(x) \\)**  \n",
    "   - Si el primer qubit colapsa a \\∣ψ 3 ⟩=∣0⟩ con alta probabilidad → **Función constante**.  \n",
    "   - Si colapsa a \\∣ψ 3 ⟩=∣1⟩ con alta probabilidad → **Función balanceada**.  "
   ]
  },
  {
   "cell_type": "code",
   "execution_count": null,
   "metadata": {},
   "outputs": [
    {
     "ename": "",
     "evalue": "",
     "output_type": "error",
     "traceback": [
      "\u001b[1;31mLa ejecución de celdas con 'Python 3.13.0' requiere el paquete ipykernel.\n",
      "\u001b[1;31mEjecute el siguiente comando para instalar 'ipykernel' en el entorno de Python. comando \n",
      "\u001b[1;31m: '/usr/local/bin/python3 -m pip install ipykernel -U --user --force-reinstall'"
     ]
    }
   ],
   "source": [
    "import numpy as np\n",
    "\n",
    "# Definir la matriz de Hadamard es es decir H en la Grafica\n",
    "H = (1 / np.sqrt(2)) * np.array([[1, 1], [1, -1]])\n",
    "\n",
    "# Definir la matriz de Uf (dada en la imagen) -> de esta dependerá el comportamiento.\n",
    "Uf = np.array([[0, 1, 0, 0],\n",
    "               [1, 0, 0, 0],\n",
    "               [0, 0, 0, 1],\n",
    "               [0, 0, 1, 0]])\n",
    "\n",
    "# Definir el estado inicial |01⟩\n",
    "psi_0 = np.array([0, 1, 0, 0])  # |0⟩ ⊗ |1⟩\n",
    "\n",
    "# Aplicar H a ambos qubits (H ⊗ H)\n",
    "H2 = np.kron(H, H)\n",
    "psi_1 = H2 @ psi_0  # Producto de matrices\n",
    "\n",
    "# Aplicar la puerta Uf\n",
    "psi_2 = Uf @ psi_1\n",
    "\n",
    "# Aplicar Hadamard al primer qubit nuevamente (H ⊗ I)\n",
    "H_I = np.kron(H, np.eye(2))\n",
    "psi_3 = H_I @ psi_2\n",
    "\n",
    "# Medir el primer qubit (probabilidad de obtener |0⟩ o |1⟩)\n",
    "prob_0 = abs(psi_3[0])**2 + abs(psi_3[1])**2\n",
    "prob_1 = abs(psi_3[2])**2 + abs(psi_3[3])**2\n",
    "\n",
    "print(f\"Probabilidad de medir |0⟩ en el primer qubit: {prob_0:.2f}\")\n",
    "print(f\"Probabilidad de medir |1⟩ en el primer qubit: {prob_1:.2f}\")\n",
    "\n",
    "# Determinar si la función es constante o balanceada, depende del condicional que cumpla =)\n",
    "if prob_0 > 0.9:\n",
    "    print(\"La función es constante.\")\n",
    "else:\n",
    "    print(\"La función es balanceada.\")\n"
   ]
  }
 ],
 "metadata": {
  "kernelspec": {
   "display_name": "Python 3",
   "language": "python",
   "name": "python3"
  },
  "language_info": {
   "codemirror_mode": {
    "name": "ipython",
    "version": 3
   },
   "file_extension": ".py",
   "mimetype": "text/x-python",
   "name": "python",
   "nbconvert_exporter": "python",
   "pygments_lexer": "ipython3",
   "version": "3.13.0"
  }
 },
 "nbformat": 4,
 "nbformat_minor": 2
}
