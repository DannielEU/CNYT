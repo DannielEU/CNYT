{
 "cells": [
  {
   "cell_type": "markdown",
   "metadata": {},
   "source": [
    "###### Estudiante: Daniel Useche"
   ]
  },
  {
   "cell_type": "markdown",
   "metadata": {},
   "source": [
    "#### Simule el primer sistema cuántico descrito en la sección 4.1.\n",
    "\n",
    "El sistema consiste en una partícula confinada a un conjunto discreto de posiciones en una línea. El simulador debe permitir especificar el número de posiciones y un vector ket de estado asignando las amplitudes.\n",
    "\n",
    "1. El sistema debe calcular la probabilidad de encontrarlo en una posición en particular.\n",
    "\n",
    "2. El sistema si se le da otro vector Ket debe buscar la probabilidad de transitar del primer vector al segundo."
   ]
  },
  {
   "cell_type": "code",
   "execution_count": 17,
   "metadata": {},
   "outputs": [
    {
     "name": "stdout",
     "output_type": "stream",
     "text": [
      "ingrese los vectores\n"
     ]
    },
    {
     "name": "stdout",
     "output_type": "stream",
     "text": [
      "Estado 1 normalizado: [0.70710678+0.j 0.70710678+0.j 0.        +0.j 0.        +0.j\n",
      " 0.        +0.j]\n",
      "Estado 2 normalizado: [0.        +0.j 0.70710678+0.j 0.70710678+0.j 0.        +0.j\n",
      " 0.        +0.j]\n",
      "ingrese la posicion a calcular\n",
      "Probabilidad de encontrar la partícula en x1: 0.4999999999999999\n",
      "Probabilidad de transición de ket1 a ket2: 0.2499999999999999\n"
     ]
    }
   ],
   "source": [
    "import numpy as np\n",
    "\n",
    "def normalize(ket):\n",
    "    \"\"\" Normaliza un vector ket.\"\"\"\n",
    "    norm = np.linalg.norm(ket)\n",
    "    return ket / norm if norm != 0 else ket\n",
    "\n",
    "def probabilidad_en_posicion(ket, position):\n",
    "    amplitude = ket[position]  # Quitamos el [0]\n",
    "    probability = np.abs(amplitude)**2\n",
    "    return probability\n",
    "\n",
    "def probabilidad_transitoria(ket1, ket2):\n",
    "    inner_product = np.dot(bra(ket2), ket1)\n",
    "    probability = np.abs(inner_product)**2\n",
    "    return probability\n",
    "\n",
    "def bra(ket):\n",
    "    return np.conjugate(ket.T)\n",
    "\n",
    "print(\"ingrese los vectores\")\n",
    "v1= list(map(int,input(\"vector\").split()))\n",
    "v2= list(map(int,input(\"vector\").split()))\n",
    "ket1 = np.array(v1, dtype=complex)\n",
    "ket2 = np.array(v2, dtype=complex)\n",
    "ket1 = normalize(ket1)\n",
    "ket2 = normalize(ket2)\n",
    "\n",
    "print(\"Estado 1 normalizado:\", ket1)\n",
    "print(\"Estado 2 normalizado:\", ket2)\n",
    "print(\"ingrese la posicion a calcular\")\n",
    "position= int(input(\"posicion\"))\n",
    "print(\"Probabilidad de encontrar la partícula en x1:\", probabilidad_en_posicion(ket1, position))\n",
    "print(\"Probabilidad de transición de ket1 a ket2:\", probabilidad_transitoria(ket1, ket2))"
   ]
  },
  {
   "cell_type": "markdown",
   "metadata": {},
   "source": [
    "# Complete los retos de programación del capítulo 4.\n",
    "1. Amplitud de transición. El sistema puede recibir dos vectores y calcular la probabilidad de transitar de el uno al otro después de hacer la observación"
   ]
  },
  {
   "cell_type": "code",
   "execution_count": null,
   "metadata": {},
   "outputs": [],
   "source": [
    "import numpy as np\n",
    "\n",
    "def normalize(ket):\n",
    "    \"\"\" Normaliza un vector ket.\"\"\"\n",
    "    norm = np.linalg.norm(ket)\n",
    "    return ket / norm if norm != 0 else ket\n",
    "\n",
    "def probabilidad_transitoria(ket1, ket2):\n",
    "    inner_product = np.dot(bra(ket2), ket1)\n",
    "    probability = np.abs(inner_product)**2\n",
    "    return probability\n",
    "\n",
    "def bra(ket):\n",
    "    return np.conjugate(ket.T)\n",
    "\n",
    "print(\"ingrese los vectores\")\n",
    "v1= list(map(int,input(\"vector\").split()))\n",
    "v2= list(map(int,input(\"vector\").split()))\n",
    "ket1 = np.array(v1, dtype=complex)\n",
    "ket2 = np.array(v2, dtype=complex)\n",
    "ket1 = normalize(ket1)\n",
    "ket2 = normalize(ket2)\n",
    "print(\"Probabilidad de transición de ket1 a ket2:\", probabilidad_transitoria(ket1, ket2))"
   ]
  },
  {
   "cell_type": "markdown",
   "metadata": {},
   "source": [
    "2. Ahora con una matriz que describa un observable y un vector ket, el sistema revisa que la matriz sea hermitiana, y si lo es, calcula la media y la varianza del observable en el estado dado."
   ]
  },
  {
   "cell_type": "code",
   "execution_count": null,
   "metadata": {},
   "outputs": [],
   "source": [
    "import numpy as np\n",
    "\n",
    "def es_hermitiana(matrix):\n",
    "    return np.allclose(matrix, np.conjugate(matrix.T))\n",
    "\n",
    "def media_observable(matrix, ket):\n",
    "    bra = np.conjugate(ket.T)\n",
    "    return np.real(np.dot(bra, np.dot(matrix, ket)))\n",
    "\n",
    "def varianza_observable(matrix, ket):\n",
    "    mean = media_observable(matrix, ket)\n",
    "    identidad = np.eye(matrix.shape[0])\n",
    "    delta = matrix - mean * identidad\n",
    "    var = media_observable(np.dot(delta, delta), ket)\n",
    "    return var\n",
    "\n",
    "\n",
    "print(\"Ingrese la matriz (fila por fila, separados por espacios.\")\n",
    "rows = int(input(\"Número de filas/columnas: \"))\n",
    "matriz = []\n",
    "for i in range(rows):\n",
    "    fila = list(map(complex, input(f\"Fila\").split()))\n",
    "    matriz.append(fila)\n",
    "matriz = np.array(matriz)\n",
    "\n",
    "print(\"Ingrese el vector ket.\")\n",
    "ket = list(map(complex, input().split()))\n",
    "ket = np.array(ket, dtype=complex)\n",
    "\n",
    "print(\"\\nMatriz observable:\")\n",
    "print(matriz)\n",
    "print(\"Ket:\", ket)\n",
    "\n",
    "if es_hermitiana(matriz):\n",
    "    print(\"La matriz es hermitiana.\")\n",
    "    media = media_observable(matriz, ket)\n",
    "    varianza = varianza_observable(matriz, ket)\n",
    "    print(f\"Media del observable: {media}\")\n",
    "    print(f\"Varianza del observable: {varianza}\")\n",
    "else:\n",
    "    print(\"La matriz NO es hermitiana.\")\n"
   ]
  },
  {
   "cell_type": "markdown",
   "metadata": {},
   "source": [
    "3. El sistema calcula los valores propios del observable y la probabilidad de que el sistema transite a alguno de los vectores propios después de la observación."
   ]
  },
  {
   "cell_type": "code",
   "execution_count": null,
   "metadata": {},
   "outputs": [],
   "source": [
    "import numpy as np\n",
    "\n",
    "def valores_propios_y_probabilidades(matrix, ket):\n",
    "    eigvals, eigvecs = np.linalg.eigh(matrix)  # Función para matrices hermitianas\n",
    "    probabilidades = []\n",
    "    for vec in eigvecs.T:\n",
    "        amp = np.dot(np.conjugate(vec.T), ket)\n",
    "        prob = np.abs(amp)**2\n",
    "        probabilidades.append(prob)\n",
    "    return eigvals, probabilidades\n",
    "\n",
    "print(\"Ingrese la matriz observable (fila por fila, separados por espacios.\")\n",
    "rows = int(input(\"Número de filas/columnas: \"))\n",
    "observable = []\n",
    "for i in range(rows):\n",
    "    fila = list(map(complex, input(f\"Fila\").split()))\n",
    "    observable.append(fila)\n",
    "observable = np.array(observable)\n",
    "\n",
    "print(\"Ingrese el vector ket (ejemplo: 1 0):\")\n",
    "ket = list(map(complex, input().split()))\n",
    "ket = np.array(ket, dtype=complex)\n",
    "\n",
    "eigvals, probs = valores_propios_y_probabilidades(observable, ket)\n",
    "print(\"\\nValores propios del observable:\", eigvals)\n",
    "print(\"Probabilidades de transitar a cada autovector:\")\n",
    "for i, p in enumerate(probs):\n",
    "    print(f\"  Autovector {i+1}: {p}\")\n",
    "\n"
   ]
  },
  {
   "cell_type": "markdown",
   "metadata": {},
   "source": [
    "4. Se considera la dinámica del sistema. Ahora con una serie de matrices Un el sistema calcula el estado final a partir de un estado inicial."
   ]
  },
  {
   "cell_type": "code",
   "execution_count": null,
   "metadata": {},
   "outputs": [],
   "source": [
    "import numpy as np\n",
    "\n",
    "def es_unitaria(U):\n",
    "    identidad = np.eye(U.shape[0])\n",
    "    return np.allclose(np.dot(np.conjugate(U.T), U), identidad)\n",
    "\n",
    "def evolucion_estado(U, ket):\n",
    "    return np.dot(U, ket)\n",
    "\n",
    "# Inputs\n",
    "print(\"Ingrese la matriz unitaria (fila por fila, separados por espacios\")\n",
    "rows = int(input(\"Número de filas/columnas: \"))\n",
    "U = []\n",
    "for i in range(rows):\n",
    "    fila = list(map(complex, input(f\"Fila\").split()))\n",
    "    U.append(fila)\n",
    "U = np.array(U)\n",
    "\n",
    "print(\"Ingrese el vector ket inicial\")\n",
    "ket = list(map(complex, input().split()))\n",
    "ket = np.array(ket, dtype=complex)\n",
    "\n",
    "# Cálculo\n",
    "if es_unitaria(U):\n",
    "    print(\"La matriz es unitaria.\")\n",
    "    final_state = evolucion_estado(U, ket)\n",
    "    print(\"Estado final:\", final_state)\n",
    "else:\n",
    "    print(\"La matriz NO es unitaria.\")\n"
   ]
  }
 ],
 "metadata": {
  "kernelspec": {
   "display_name": ".venv",
   "language": "python",
   "name": "python3"
  },
  "language_info": {
   "codemirror_mode": {
    "name": "ipython",
    "version": 3
   },
   "file_extension": ".py",
   "mimetype": "text/x-python",
   "name": "python",
   "nbconvert_exporter": "python",
   "pygments_lexer": "ipython3",
   "version": "3.13.2"
  }
 },
 "nbformat": 4,
 "nbformat_minor": 2
}
